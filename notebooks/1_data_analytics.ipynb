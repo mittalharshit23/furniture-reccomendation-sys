{
 "cells": [
  {
   "cell_type": "markdown",
   "metadata": {},
   "source": [
    "# FurniMatch AI - Data Analytics Notebook\n",
    "\n",
    "**Author:** FurniMatch AI Team  \n",
    "**Date:** 2025-10-18  \n",
    "**Purpose:** Comprehensive exploratory data analysis of furniture product dataset\n",
    "\n",
    "## Objectives\n",
    "1. Load and understand the dataset structure\n",
    "2. Perform data quality assessment\n",
    "3. Analyze product distributions (price, categories, brands)\n",
    "4. Identify patterns and insights\n",
    "5. Generate visualizations for key metrics\n",
    "\n",
    "---"
   ]
  },
  {
   "cell_type": "markdown",
   "metadata": {},
   "source": [
    "## 1. Setup and Imports\n",
    "\n",
    "**Reasoning:** Import necessary libraries for data analysis and visualization. We use pandas for data manipulation, numpy for numerical operations, and matplotlib/seaborn for visualization."
   ]
  },
  {
   "cell_type": "code",
   "execution_count": null,
   "metadata": {},
   "outputs": [],
   "source": [
    "import pandas as pd\n",
    "import numpy as np\n",
    "import matplotlib.pyplot as plt\n",
    "import seaborn as sns\n",
    "from pathlib import Path\n",
    "import warnings\n",
    "\n",
    "# Configure display and plotting\n",
    "warnings.filterwarnings('ignore')\n",
    "pd.set_option('display.max_columns', None)\n",
    "pd.set_option('display.max_rows', 100)\n",
    "plt.style.use('seaborn-v0_8-darkgrid')\n",
    "sns.set_palette(\"husl\")\n",
    "\n",
    "print(\"Libraries imported successfully\")\n",
    "print(f\"Pandas version: {pd.__version__}\")\n",
    "print(f\"NumPy version: {np.__version__}\")"
   ]
  },
  {
   "cell_type": "markdown",
   "metadata": {},
   "source": [
    "## 2. Load Dataset\n",
    "\n",
    "**Reasoning:** Load the furniture dataset from CSV. We check if the file exists and handle potential loading errors gracefully."
   ]
  },
  {
   "cell_type": "code",
   "execution_count": null,
   "metadata": {},
   "outputs": [],
   "source": [
    "# Define data path\n",
    "DATA_PATH = '../backend/data/furniture_dataset.csv'\n",
    "\n",
    "# Load dataset\n",
    "try:\n",
    "    df = pd.read_csv(DATA_PATH)\n",
    "    print(f\"Dataset loaded successfully!\")\n",
    "    print(f\"Shape: {df.shape[0]:,} rows × {df.shape[1]} columns\")\nexcept FileNotFoundError:\n",
    "    print(f\"ERROR: File not found at {DATA_PATH}\")\n",
    "    print(\"Please ensure the dataset is in the correct location.\")"
   ]
  },
  {
   "cell_type": "markdown",
   "metadata": {},
   "source": [
    "## 3. Initial Data Exploration\n",
    "\n",
    "**Reasoning:** Get a first look at the data structure, column types, and sample records to understand what we're working with."
   ]
  },
  {
   "cell_type": "code",
   "execution_count": null,
   "metadata": {},
   "outputs": [],
   "source": [
    "# Display basic information\n",
    "print(\"=\" * 80)\n",
    "print(\"DATASET OVERVIEW\")\n",
    "print(\"=\" * 80)\n",
    "df.info()\n",
    "\n",
    "print(\"\\n\" + \"=\" * 80)\n",
    "print(\"FIRST 5 ROWS\")\n",
    "print(\"=\" * 80)\n",
    "df.head()"
   ]
  },
  {
   "cell_type": "markdown",
   "metadata": {},
   "source": [
    "## 4. Data Quality Assessment\n",
    "\n",
    "**Reasoning:** Identify missing values, duplicates, and data quality issues. This is critical for understanding data completeness and planning preprocessing steps."
   ]
  },
  {
   "cell_type": "code",
   "execution_count": null,
   "metadata": {},
   "outputs": [],
   "source": [
    "# Check for missing values\n",
    "print(\"MISSING VALUES ANALYSIS\")\n",
    "print(\"=\" * 80)\n",
    "missing_data = pd.DataFrame({\n",
    "    'Column': df.columns,\n",
    "    'Missing_Count': df.isnull().sum(),\n",
    "    'Missing_Percentage': (df.isnull().sum() / len(df) * 100).round(2)\n",
    "})\n",
    "missing_data = missing_data[missing_data['Missing_Count'] > 0].sort_values('Missing_Percentage', ascending=False)\n",
    "print(missing_data.to_string(index=False))\n",
    "\n",
    "# Check for duplicates\n",
    "print(\"\\n\" + \"=\" * 80)\n",
    "print(\"DUPLICATE ANALYSIS\")\n",
    "print(\"=\" * 80)\n",
    "duplicates = df.duplicated(subset=['uniq_id'], keep=False).sum()\n",
    "print(f\"Duplicate products (by uniq_id): {duplicates}\")\n",
    "print(f\"Percentage: {(duplicates/len(df)*100):.2f}%\")"
   ]
  },
  {
   "cell_type": "markdown",
   "metadata": {},
   "source": [
    "## 5. Price Analysis\n",
    "\n",
    "**Reasoning:** Price is a critical factor in recommendations. We analyze price distribution, outliers, and statistics to understand the product range."
   ]
  },
  {
   "cell_type": "code",
   "execution_count": null,
   "metadata": {},
   "outputs": [],
   "source": [
    "# Clean price data\n",
    "df['price_clean'] = df['price'].astype(str).str.replace('$', '').str.replace(',', '')\n",
    "df['price_clean'] = pd.to_numeric(df['price_clean'], errors='coerce')\n",
    "\n",
    "# Price statistics\n",
    "print(\"PRICE STATISTICS\")\n",
    "print(\"=\" * 80)\n",
    "print(f\"Mean Price: ${df['price_clean'].mean():.2f}\")\n",
    "print(f\"Median Price: ${df['price_clean'].median():.2f}\")\n",
    "print(f\"Std Dev: ${df['price_clean'].std():.2f}\")\n",
    "print(f\"Min Price: ${df['price_clean'].min():.2f}\")\n",
    "print(f\"Max Price: ${df['price_clean'].max():.2f}\")\n",
    "print(f\"\\nPrice Quartiles:\")\n",
    "print(df['price_clean'].describe())\n",
    "\n",
    "# Visualize price distribution\n",
    "fig, axes = plt.subplots(1, 2, figsize=(15, 5))\n",
    "\n",
    "# Histogram\n",
    "axes[0].hist(df['price_clean'].dropna(), bins=50, edgecolor='black', alpha=0.7)\n",
    "axes[0].set_xlabel('Price ($)', fontsize=12)\n",
    "axes[0].set_ylabel('Frequency', fontsize=12)\n",
    "axes[0].set_title('Price Distribution (All Products)', fontsize=14, fontweight='bold')\n",
    "axes[0].axvline(df['price_clean'].mean(), color='red', linestyle='--', label=f'Mean: ${df[\"price_clean\"].mean():.2f}')\n",
    "axes[0].axvline(df['price_clean'].median(), color='green', linestyle='--', label=f'Median: ${df[\"price_clean\"].median():.2f}')\n",
    "axes[0].legend()\n",
    "\n",
    "# Box plot\n",
    "axes[1].boxplot(df['price_clean'].dropna(), vert=True)\n",
    "axes[1].set_ylabel('Price ($)', fontsize=12)\n",
    "axes[1].set_title('Price Distribution (Box Plot)', fontsize=14, fontweight='bold')\n",
    "axes[1].grid(True, alpha=0.3)\n",
    "\n",
    "plt.tight_layout()\n",
    "plt.show()"
   ]
  },
  {
   "cell_type": "markdown",
   "metadata": {},
   "source": [
    "## 6. Category Analysis\n",
    "\n",
    "**Reasoning:** Understanding category distribution helps identify the most common furniture types and ensures balanced recommendations across categories."
   ]
  },
  {
   "cell_type": "code",
   "execution_count": null,
   "metadata": {},
   "outputs": [],
   "source": [
    "# Extract main categories\n",
    "# Categories are stored as strings that may contain lists or comma-separated values\n",
    "def extract_main_category(cat_str):\n",
    "    if pd.isna(cat_str) or cat_str == '':\n",
    "        return 'Unknown'\n",
    "    # Remove brackets and quotes, take first category\n",
    "    clean = str(cat_str).replace('[', '').replace(']', '').replace(\"'\", '').replace('\"', '')\n",
    "    categories = [c.strip() for c in clean.split(',')]\n",
    "    return categories[0] if categories else 'Unknown'\n",
    "\n",
    "df['main_category'] = df['categories'].apply(extract_main_category)\n",
    "\n",
    "# Category distribution\n",
    "print(\"CATEGORY DISTRIBUTION (Top 15)\")\n",
    "print(\"=\" * 80)\n",
    "category_counts = df['main_category'].value_counts().head(15)\n",
    "print(category_counts)\n",
    "\n",
    "# Visualize top categories\n",
    "plt.figure(figsize=(12, 6))\n",
    "category_counts.plot(kind='barh', color='skyblue', edgecolor='black')\n",
    "plt.xlabel('Number of Products', fontsize=12)\n",
    "plt.ylabel('Category', fontsize=12)\n",
    "plt.title('Top 15 Product Categories', fontsize=14, fontweight='bold')\n",
    "plt.gca().invert_yaxis()\n",
    "plt.tight_layout()\n",
    "plt.show()"
   ]
  },
  {
   "cell_type": "markdown",
   "metadata": {},
   "source": [
    "## 7. Brand Analysis\n",
    "\n",
    "**Reasoning:** Brand diversity affects recommendation quality. We analyze top brands and their market presence in the dataset."
   ]
  },
  {
   "cell_type": "code",
   "execution_count": null,
   "metadata": {},
   "outputs": [],
   "source": [
    "# Brand distribution\n",
    "print(\"BRAND ANALYSIS (Top 20)\")\n",
    "print(\"=\" * 80)\n",
    "brand_counts = df['brand'].value_counts().head(20)\n",
    "print(brand_counts)\n",
    "\n",
    "print(f\"\\nTotal unique brands: {df['brand'].nunique():,}\")\n",
    "print(f\"Average products per brand: {len(df) / df['brand'].nunique():.2f}\")\n",
    "\n",
    "# Visualize top brands\n",
    "plt.figure(figsize=(12, 6))\n",
    "brand_counts.head(15).plot(kind='bar', color='coral', edgecolor='black')\n",
    "plt.xlabel('Brand', fontsize=12)\n",
    "plt.ylabel('Number of Products', fontsize=12)\n",
    "plt.title('Top 15 Brands by Product Count', fontsize=14, fontweight='bold')\n",
    "plt.xticks(rotation=45, ha='right')\n",
    "plt.tight_layout()\n",
    "plt.show()"
   ]
  },
  {
   "cell_type": "markdown",
   "metadata": {},
   "source": [
    "## 8. Material and Color Analysis\n",
    "\n",
    "**Reasoning:** Material and color are important filters in our recommendation system. Analyzing their distribution helps understand product diversity."
   ]
  },
  {
   "cell_type": "code",
   "execution_count": null,
   "metadata": {},
   "outputs": [],
   "source": [
    "# Material analysis\n",
    "print(\"MATERIAL DISTRIBUTION (Top 15)\")\n",
    "print(\"=\" * 80)\n",
    "material_counts = df['material'].value_counts().head(15)\n",
    "print(material_counts)\n",
    "\n",
    "# Color analysis\n",
    "print(\"\\n\" + \"=\" * 80)\n",
    "print(\"COLOR DISTRIBUTION (Top 15)\")\n",
    "print(\"=\" * 80)\n",
    "color_counts = df['color'].value_counts().head(15)\n",
    "print(color_counts)\n",
    "\n",
    "# Visualize\n",
    "fig, axes = plt.subplots(1, 2, figsize=(16, 6))\n",
    "\n",
    "# Material distribution\n",
    "material_counts.head(10).plot(kind='barh', ax=axes[0], color='lightgreen', edgecolor='black')\n",
    "axes[0].set_xlabel('Count', fontsize=12)\n",
    "axes[0].set_ylabel('Material', fontsize=12)\n",
    "axes[0].set_title('Top 10 Materials', fontsize=14, fontweight='bold')\n",
    "axes[0].invert_yaxis()\n",
    "\n",
    "# Color distribution\n",
    "color_counts.head(10).plot(kind='barh', ax=axes[1], color='lightblue', edgecolor='black')\n",
    "axes[1].set_xlabel('Count', fontsize=12)\n",
    "axes[1].set_ylabel('Color', fontsize=12)\n",
    "axes[1].set_title('Top 10 Colors', fontsize=14, fontweight='bold')\n",
    "axes[1].invert_yaxis()\n",
    "\n",
    "plt.tight_layout()\n",
    "plt.show()"
   ]
  },
  {
   "cell_type": "markdown",
   "metadata": {},
   "source": [
    "## 9. Price by Category Analysis\n",
    "\n",
    "**Reasoning:** Understanding price variations across categories helps identify premium vs. budget product segments."
   ]
  },
  {
   "cell_type": "code",
   "execution_count": null,
   "metadata": {},
   "outputs": [],
   "source": [
    "# Price statistics by top categories\n",
    "top_categories = df['main_category'].value_counts().head(10).index\n",
    "category_price_stats = df[df['main_category'].isin(top_categories)].groupby('main_category')['price_clean'].agg([\n",
    "    ('Count', 'count'),\n",
    "    ('Mean', 'mean'),\n",
    "    ('Median', 'median'),\n",
    "    ('Min', 'min'),\n",
    "    ('Max', 'max')\n",
    "]).round(2)\n",
    "\n",
    "print(\"PRICE STATISTICS BY CATEGORY (Top 10 Categories)\")\n",
    "print(\"=\" * 80)\n",
    "print(category_price_stats)\n",
    "\n",
    "# Visualize average price by category\n",
    "plt.figure(figsize=(12, 6))\n",
    "category_price_stats.sort_values('Mean', ascending=True)['Mean'].plot(\n",
    "    kind='barh', \n",
    "    color='mediumpurple', \n",
    "    edgecolor='black'\n",
    ")\n",
    "plt.xlabel('Average Price ($)', fontsize=12)\n",
    "plt.ylabel('Category', fontsize=12)\n",
    "plt.title('Average Price by Category', fontsize=14, fontweight='bold')\n",
    "plt.tight_layout()\n",
    "plt.show()"
   ]
  },
  {
   "cell_type": "markdown",
   "metadata": {},
   "source": [
    "## 10. Data Quality Insights\n",
    "\n",
    "**Reasoning:** Summarize key data quality metrics that will inform preprocessing decisions."
   ]
  },
  {
   "cell_type": "code",
   "execution_count": null,
   "metadata": {},
   "outputs": [],
   "source": [
    "# Check description completeness\n",
    "desc_filled = df['description'].notna().sum()\n",
    "desc_filled_pct = (desc_filled / len(df) * 100)\n",
    "\n",
    "# Check image availability\n",
    "images_filled = df['images'].notna().sum()\n",
    "images_filled_pct = (images_filled / len(df) * 100)\n",
    "\n",
    "print(\"DATA COMPLETENESS SUMMARY\")\n",
    "print(\"=\" * 80)\n",
    "print(f\"Total Products: {len(df):,}\")\n",
    "print(f\"Unique Products (by ID): {df['uniq_id'].nunique():,}\")\n",
    "print(f\"\\nField Completeness:\")\n",
    "print(f\"  Titles: {df['title'].notna().sum():,} ({df['title'].notna().sum()/len(df)*100:.1f}%)\")\n",
    "print(f\"  Descriptions: {desc_filled:,} ({desc_filled_pct:.1f}%)\")\n",
    "print(f\"  Prices: {df['price_clean'].notna().sum():,} ({df['price_clean'].notna().sum()/len(df)*100:.1f}%)\")\n",
    "print(f\"  Brands: {df['brand'].notna().sum():,} ({df['brand'].notna().sum()/len(df)*100:.1f}%)\")\n",
    "print(f\"  Categories: {df['categories'].notna().sum():,} ({df['categories'].notna().sum()/len(df)*100:.1f}%)\")\n",
    "print(f\"  Images: {images_filled:,} ({images_filled_pct:.1f}%)\")\n",
    "print(f\"  Materials: {df['material'].notna().sum():,} ({df['material'].notna().sum()/len(df)*100:.1f}%)\")\n",
    "print(f\"  Colors: {df['color'].notna().sum():,} ({df['color'].notna().sum()/len(df)*100:.1f}%)\")"
   ]
  },
  {
   "cell_type": "markdown",
   "metadata": {},
   "source": [
    "## 11. Key Insights and Recommendations\n",
    "\n",
    "**Reasoning:** Summarize findings to inform model development and business decisions."
   ]
  },
  {
   "cell_type": "code",
   "execution_count": null,
   "metadata": {},
   "outputs": [],
   "source": [
    "print(\"KEY INSIGHTS\")\n",
    "print(\"=\" * 80)\n",
    "print(\"\\n1. DATASET SIZE AND QUALITY\")\n",
    "print(f\"   - Total products: {len(df):,}\")\n",
    "print(f\"   - Data completeness: Good for core fields (title, price, brand)\")\n",
    "print(f\"   - Description coverage: {desc_filled_pct:.1f}% (room for improvement)\")\n",
    "\n",
    "print(\"\\n2. PRICE RANGE\")\n",
    "print(f\"   - Average: ${df['price_clean'].mean():.2f}\")\n",
    "print(f\"   - Range: ${df['price_clean'].min():.2f} - ${df['price_clean'].max():.2f}\")\n",
    "print(f\"   - Recommendation: Consider price buckets for better filtering\")\n",
    "\n",
    "print(\"\\n3. CATEGORY DISTRIBUTION\")\n",
    "print(f\"   - Unique categories: {df['main_category'].nunique():,}\")\n",
    "print(f\"   - Top category: {df['main_category'].value_counts().index[0]}\")\n",
    "print(f\"   - Recommendation: Balanced across furniture types\")\n",
    "\n",
    "print(\"\\n4. BRAND DIVERSITY\")\n",
    "print(f\"   - Unique brands: {df['brand'].nunique():,}\")\n",
    "print(f\"   - Top brand: {df['brand'].value_counts().index[0]}\")\n",
    "print(f\"   - Recommendation: Good brand diversity for recommendations\")\n",
    "\n",
    "print(\"\\n5. RECOMMENDATIONS FOR MODEL\")\n",
    "print(\"   - Use title and description as primary features (high completeness)\")\n",
    "print(\"   - Incorporate category, material, color as secondary features\")\n",
    "print(\"   - Handle missing descriptions with title-based fallback\")\n",
    "print(\"   - Price-based filtering will be effective (good coverage)\")\n",
    "print(\"   - Consider brand as a quality signal\")\n",
    "\n",
    "print(\"\\n\" + \"=\" * 80)\n",
    "print(\"ANALYSIS COMPLETE\")\n",
    "print(\"=\" * 80)"
   ]
  }
 ],
 "metadata": {
  "kernelspec": {
   "display_name": "Python 3",
   "language": "python",
   "name": "python3"
  },
  "language_info": {
   "codemirror_mode": {
    "name": "ipython",
    "version": 3
   },
   "file_extension": ".py",
   "mimetype": "text/x-python",
   "name": "python",
   "nbconvert_exporter": "python",
   "pygments_lexer": "ipython3",
   "version": "3.12.0"
  }
 },
 "nbformat": 4,
 "nbformat_minor": 4
}
